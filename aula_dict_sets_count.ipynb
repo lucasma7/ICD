{
 "cells": [
  {
   "cell_type": "code",
   "execution_count": 1,
   "metadata": {},
   "outputs": [],
   "source": [
    "grades = {\"Maria\": 9, \"Joao\": 10}"
   ]
  },
  {
   "cell_type": "code",
   "execution_count": 3,
   "metadata": {},
   "outputs": [
    {
     "data": {
      "text/plain": [
       "{'Maria': 9, 'Joao': 10}"
      ]
     },
     "execution_count": 3,
     "metadata": {},
     "output_type": "execute_result"
    }
   ],
   "source": [
    "grades"
   ]
  },
  {
   "cell_type": "code",
   "execution_count": 6,
   "metadata": {},
   "outputs": [
    {
     "data": {
      "text/plain": [
       "9"
      ]
     },
     "execution_count": 6,
     "metadata": {},
     "output_type": "execute_result"
    }
   ],
   "source": [
    "grades[\"Maria\"]"
   ]
  },
  {
   "cell_type": "code",
   "execution_count": 9,
   "metadata": {},
   "outputs": [
    {
     "name": "stdout",
     "output_type": "stream",
     "text": [
      "Pedro não fez a prova\n"
     ]
    }
   ],
   "source": [
    "try:\n",
    "    print(grades[\"Pedro\"])\n",
    "except KeyError:\n",
    "    print(\"Pedro não fez a prova\")"
   ]
  },
  {
   "cell_type": "code",
   "execution_count": 11,
   "metadata": {},
   "outputs": [
    {
     "data": {
      "text/plain": [
       "True"
      ]
     },
     "execution_count": 11,
     "metadata": {},
     "output_type": "execute_result"
    }
   ],
   "source": [
    "\"Joao\" in grades"
   ]
  },
  {
   "cell_type": "code",
   "execution_count": 14,
   "metadata": {},
   "outputs": [
    {
     "data": {
      "text/plain": [
       "0"
      ]
     },
     "execution_count": 14,
     "metadata": {},
     "output_type": "execute_result"
    }
   ],
   "source": [
    "grades.get(\"Pedro\", 0)"
   ]
  },
  {
   "cell_type": "code",
   "execution_count": 17,
   "metadata": {},
   "outputs": [
    {
     "data": {
      "text/plain": [
       "dict_keys(['Maria', 'Joao'])"
      ]
     },
     "execution_count": 17,
     "metadata": {},
     "output_type": "execute_result"
    }
   ],
   "source": [
    "grades.keys()"
   ]
  },
  {
   "cell_type": "code",
   "execution_count": 18,
   "metadata": {},
   "outputs": [
    {
     "data": {
      "text/plain": [
       "dict_values([9, 10])"
      ]
     },
     "execution_count": 18,
     "metadata": {},
     "output_type": "execute_result"
    }
   ],
   "source": [
    "grades.values()"
   ]
  },
  {
   "cell_type": "code",
   "execution_count": 20,
   "metadata": {},
   "outputs": [
    {
     "data": {
      "text/plain": [
       "dict_items([('Maria', 9), ('Joao', 10)])"
      ]
     },
     "execution_count": 20,
     "metadata": {},
     "output_type": "execute_result"
    }
   ],
   "source": [
    "grades.items()"
   ]
  },
  {
   "cell_type": "code",
   "execution_count": 32,
   "metadata": {},
   "outputs": [],
   "source": [
    "champions = [\"Bahia\", \"Palmeiras\", \"Santos\", \"Santos\", \"Santos\",\n",
    "             \"Santos\", \"Santos\", \"Cruzeiro\", \"Palmeiras\", \"Palmeiras\",\n",
    "             \"Botafogo\", \"Santos\", \"Palmeiras\", \"Fluminense\",\n",
    "             \"Atlético Mineiro\", \"Palmeiras\", \"Palmeiras\",\n",
    "             \"Vasco da Gama\", \"Internacional\", \"Internacional\",\n",
    "             \"São Paulo\", \"Guarani\", \"Internacional\", \"Flamengo\",\n",
    "             \"Grêmio\", \"Flamengo\", \"Flamengo\", \"Fluminense\",\n",
    "             \"Coritiba\", \"São Paulo\", \"Flamengo\", \"Sport\", \"Bahia\",\n",
    "             \"Vasco da Gama\", \"Corinthians\", \"São Paulo\", \"Flamengo\",\n",
    "             \"Palmeiras\", \"Palmeiras\", \"Botafogo\", \"Grêmio\",\n",
    "             \"Vasco da Gama\", \"Corinthians\", \"Corinthians\",\n",
    "             \"Vasco da Gama\", \"Atlético Paranaense\", \"Santos\",\n",
    "             \"Cruzeiro\", \"Santos\", \"Corinthians\", \"São Paulo\",\n",
    "             \"São Paulo\", \"São Paulo\", \"Flamengo\", \"Fluminense\",\n",
    "             \"Corinthians\", \"Fluminense\", \"Cruzeiro\", \"Cruzeiro\",\n",
    "             \"Corinthians\", \"Palmeiras\", \"Corinthians\", \"Palmeiras\",\n",
    "             \"Flamengo\"]"
   ]
  },
  {
   "cell_type": "code",
   "execution_count": 33,
   "metadata": {},
   "outputs": [],
   "source": [
    "from collections import Counter\n",
    "\n",
    "champions_counter = Counter(champions)"
   ]
  },
  {
   "cell_type": "code",
   "execution_count": 34,
   "metadata": {},
   "outputs": [
    {
     "data": {
      "text/plain": [
       "Counter({'Bahia': 2,\n",
       "         'Palmeiras': 10,\n",
       "         'Santos': 8,\n",
       "         'Cruzeiro': 4,\n",
       "         'Botafogo': 2,\n",
       "         'Fluminense': 4,\n",
       "         'Atlético Mineiro': 1,\n",
       "         'Vasco da Gama': 4,\n",
       "         'Internacional': 3,\n",
       "         'São Paulo': 6,\n",
       "         'Guarani': 1,\n",
       "         'Flamengo': 7,\n",
       "         'Grêmio': 2,\n",
       "         'Coritiba': 1,\n",
       "         'Sport': 1,\n",
       "         'Corinthians': 7,\n",
       "         'Atlético Paranaense': 1})"
      ]
     },
     "execution_count": 34,
     "metadata": {},
     "output_type": "execute_result"
    }
   ],
   "source": [
    "champions_counter"
   ]
  },
  {
   "cell_type": "code",
   "execution_count": 35,
   "metadata": {},
   "outputs": [
    {
     "data": {
      "text/plain": [
       "[('Palmeiras', 10),\n",
       " ('Santos', 8),\n",
       " ('Flamengo', 7),\n",
       " ('Corinthians', 7),\n",
       " ('São Paulo', 6)]"
      ]
     },
     "execution_count": 35,
     "metadata": {},
     "output_type": "execute_result"
    }
   ],
   "source": [
    "champions_counter.most_common(5)"
   ]
  },
  {
   "cell_type": "code",
   "execution_count": 36,
   "metadata": {},
   "outputs": [],
   "source": [
    "top_10 = [\"Tones and I - Dance Monkey\", \"Lady Gaga, Ariana Grande - Rain on Me\",\n",
    "          \"Justin Bieber - Yummy\", \"MISCHO - Photon Love\", \"Dua Lipa - Break My Heart\",\n",
    "          \"Lady Gaga, BLACKPINK - Sour Candy\", \"Dua Lipa - Don't Start Now\",\n",
    "          \"Justin Bieber, Quavo - Intentions\", \"Doja Cat - Say So\",\n",
    "          \"Karol G, Nicki Minaj - Tusa\", \"Benee, Gus Dapperton - Supalonely\"]"
   ]
  },
  {
   "cell_type": "code",
   "execution_count": 42,
   "metadata": {},
   "outputs": [
    {
     "data": {
      "text/plain": [
       "[{'artist': 'Tones and I', 'song': 'Dance Monkey'},\n",
       " {'artist': 'Lady Gaga, Ariana Grande', 'song': 'Rain on Me'},\n",
       " {'artist': 'Justin Bieber', 'song': 'Yummy'},\n",
       " {'artist': 'MISCHO', 'song': 'Photon Love'},\n",
       " {'artist': 'Dua Lipa', 'song': 'Break My Heart'},\n",
       " {'artist': 'Lady Gaga, BLACKPINK', 'song': 'Sour Candy'},\n",
       " {'artist': 'Dua Lipa', 'song': \"Don't Start Now\"},\n",
       " {'artist': 'Justin Bieber, Quavo', 'song': 'Intentions'},\n",
       " {'artist': 'Doja Cat', 'song': 'Say So'},\n",
       " {'artist': 'Karol G, Nicki Minaj', 'song': 'Tusa'},\n",
       " {'artist': 'Benee, Gus Dapperton', 'song': 'Supalonely'}]"
      ]
     },
     "execution_count": 42,
     "metadata": {},
     "output_type": "execute_result"
    }
   ],
   "source": [
    "top_10_dict = [{\"artist\": x.split(\" - \")[0], \"song\": x.split(\" - \")[1]} for x in top_10]\n",
    "top_10_dict"
   ]
  },
  {
   "cell_type": "code",
   "execution_count": null,
   "metadata": {},
   "outputs": [],
   "source": []
  },
  {
   "cell_type": "code",
   "execution_count": null,
   "metadata": {},
   "outputs": [],
   "source": []
  }
 ],
 "metadata": {
  "kernelspec": {
   "display_name": "Python 3",
   "language": "python",
   "name": "python3"
  },
  "language_info": {
   "codemirror_mode": {
    "name": "ipython",
    "version": 3
   },
   "file_extension": ".py",
   "mimetype": "text/x-python",
   "name": "python",
   "nbconvert_exporter": "python",
   "pygments_lexer": "ipython3",
   "version": "3.7.6"
  }
 },
 "nbformat": 4,
 "nbformat_minor": 4
}
