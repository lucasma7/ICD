{
 "cells": [
  {
   "cell_type": "markdown",
   "metadata": {},
   "source": [
    "# Introdução à Ciência de Dados - UFPB\n",
    "\n",
    "Professor: Yuri Malheiros\n",
    "\n",
    "Aluno: Lucas Miranda de Aguiar\n",
    "\n",
    "## Python - Random - Exercício"
   ]
  },
  {
   "cell_type": "markdown",
   "metadata": {},
   "source": [
    "Implemente a função `generate_password` que deve gerar uma senha aleatória.\n",
    "\n",
    "A função tem tres parâmetros:\n",
    "\n",
    "- `n_chars` especifica o tamanho da senha gerada\n",
    "- `use_numbers` especifica se números podem ser usados na senha. Por padrão, esse parâmetro tem valor True\n",
    "- `use_special_chars` especifica se caracteres especiais, por exemplo !#%&@?, pode ser usados na senha. Por padrão, esse parâmetro tem valor True\n",
    "\n",
    "Note que se `use_numbers` e `use_special_chars` tiverem valor False, a senha terá apenas letras maiúsculas ou minúsculas."
   ]
  },
  {
   "cell_type": "code",
   "execution_count": 5,
   "metadata": {},
   "outputs": [],
   "source": [
    "import random\n",
    "#poderia fazer usando chr() da tabela ascii, porém achei a importação do módulo mais prático\n",
    "import string\n",
    "\n",
    "def generate_password(n_chars, use_numbers=True, use_special_chars=True):\n",
    "    #Criando toda a base de dados necessária para a senha\n",
    "    special_chars= [\"!\",\"#\",\"%\",\"&\",\"@\",\"?\"]\n",
    "    chars_lower = list(string.ascii_lowercase)\n",
    "    chars_upper = list(string.ascii_uppercase)\n",
    "    numbers = [0,1,2,3,4,5,6,7,8,9]\n",
    "    password = \"\"\n",
    "    separator= \"\"\n",
    "    \n",
    "    for i in range(n_chars):\n",
    "        #para satisfazer os parâmetros\n",
    "        if use_numbers == True and use_special_chars==True:\n",
    "            num_pass = random.choice(numbers)\n",
    "            special_pass = random.choice(special_chars)\n",
    "            char_lower_pass = random.choice(chars_lower)\n",
    "            char_upper_pass = random.choice(chars_upper)\n",
    "            password += f\"{special_pass}{num_pass}{char_lower_pass}{char_upper_pass}\"\n",
    "\n",
    "        elif use_numbers == False and use_special_chars==True:\n",
    "            special_pass = random.choice(special_chars)\n",
    "            char_lower_pass = random.choice(chars_lower)\n",
    "            char_upper_pass = random.choice(chars_upper)\n",
    "            password += f\"{special_pass}{char_lower_pass}{char_upper_pass}\"\n",
    "\n",
    "        elif use_special_chars == False and use_numbers == True:\n",
    "            num_pass = random.choice(numbers)\n",
    "            char_lower_pass = random.choice(chars_lower)\n",
    "            char_upper_pass = random.choice(chars_upper)\n",
    "            password += f\"{num_pass}{char_lower_pass}{char_upper_pass}\"\n",
    "\n",
    "        elif use_special_chars == False and use_numbers == False:\n",
    "            char_lower_pass = random.choice(chars_lower)\n",
    "            char_upper_pass = random.choice(chars_upper)\n",
    "            password += f\"{char_lower_pass}{char_upper_pass}\"\n",
    "    \n",
    "    #organizando a senha e transformando em string\n",
    "    password = random.sample(password, n_chars)\n",
    "    password = separator.join(password)\n",
    "    \n",
    "    return password"
   ]
  },
  {
   "cell_type": "code",
   "execution_count": 9,
   "metadata": {},
   "outputs": [
    {
     "name": "stdout",
     "output_type": "stream",
     "text": [
      "QMtTy%Qr!4\n",
      "A%g?COD?!G\n",
      "BTEMZjxgHr\n"
     ]
    }
   ],
   "source": [
    "print(generate_password(10))\n",
    "print(generate_password(10, use_numbers=False))\n",
    "print(generate_password(10, use_numbers=False, use_special_chars=False))"
   ]
  },
  {
   "cell_type": "code",
   "execution_count": null,
   "metadata": {},
   "outputs": [],
   "source": []
  }
 ],
 "metadata": {
  "kernelspec": {
   "display_name": "Python 3",
   "language": "python",
   "name": "python3"
  },
  "language_info": {
   "codemirror_mode": {
    "name": "ipython",
    "version": 3
   },
   "file_extension": ".py",
   "mimetype": "text/x-python",
   "name": "python",
   "nbconvert_exporter": "python",
   "pygments_lexer": "ipython3",
   "version": "3.7.6"
  }
 },
 "nbformat": 4,
 "nbformat_minor": 4
}
